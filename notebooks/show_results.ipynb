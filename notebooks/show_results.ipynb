{
 "cells": [
  {
   "cell_type": "code",
   "execution_count": 4,
   "metadata": {},
   "outputs": [],
   "source": [
    "import torch\n",
    "import numpy as np\n",
    "import matplotlib.pyplot as plt\n",
    "%matplotlib inline"
   ]
  },
  {
   "cell_type": "code",
   "execution_count": 5,
   "metadata": {},
   "outputs": [],
   "source": [
    "class_features = torch.load(\"assets/class_features.pt\")\n",
    "\n",
    "with open(\"assets/class_labels.txt\") as f:\n",
    "    class_labels = f.read().splitlines()"
   ]
  },
  {
   "cell_type": "code",
   "execution_count": 6,
   "metadata": {},
   "outputs": [],
   "source": [
    "fp16_image_features = np.load(\"assets/fp16_image_features.npy\")\n",
    "fp32_image_features = np.load(\"assets/fp32_image_features.npy\")\n",
    "int8_image_features = np.load(\"assets/int8_image_features.npy\")"
   ]
  },
  {
   "cell_type": "code",
   "execution_count": 8,
   "metadata": {},
   "outputs": [
    {
     "data": {
      "text/plain": [
       "(array([ 0.00266622, -0.02397259,  0.07347347, -0.02166717, -0.01637221,\n",
       "        -0.03255699,  0.02222947,  0.02119859, -0.03176978,  0.00055761],\n",
       "       dtype=float32),\n",
       " array([ 0.0257829 ,  0.01132223, -0.00938553,  0.03748254,  0.00144507,\n",
       "        -0.04421628,  0.05013562, -0.0017182 , -0.05414806,  0.04091893],\n",
       "       dtype=float32),\n",
       " array([ 0.00481593,  0.0131218 , -0.0274591 , -0.00591632,  0.03156599,\n",
       "         0.00807566,  0.00329657, -0.0095582 , -0.01559883,  0.0333524 ],\n",
       "       dtype=float32))"
      ]
     },
     "execution_count": 8,
     "metadata": {},
     "output_type": "execute_result"
    }
   ],
   "source": [
    "fp32_image_features[0, :10], fp32_image_features[1, :10], fp32_image_features[2, :10]"
   ]
  },
  {
   "cell_type": "code",
   "execution_count": 9,
   "metadata": {},
   "outputs": [
    {
     "ename": "TypeError",
     "evalue": "unsupported operand type(s) for @: 'numpy.ndarray' and 'Tensor'",
     "output_type": "error",
     "traceback": [
      "\u001b[0;31m---------------------------------------------------------------------------\u001b[0m",
      "\u001b[0;31mTypeError\u001b[0m                                 Traceback (most recent call last)",
      "Cell \u001b[0;32mIn[9], line 1\u001b[0m\n\u001b[0;32m----> 1\u001b[0m text_probs \u001b[39m=\u001b[39m (\u001b[39m100.0\u001b[39;49m \u001b[39m*\u001b[39;49m fp32_image_features \u001b[39m@\u001b[39;49m class_features\u001b[39m.\u001b[39;49mT)\u001b[39m.\u001b[39msoftmax(dim\u001b[39m=\u001b[39m\u001b[39m-\u001b[39m\u001b[39m1\u001b[39m)\n\u001b[1;32m      2\u001b[0m top_probs, top_labels \u001b[39m=\u001b[39m text_probs\u001b[39m.\u001b[39mcpu()\u001b[39m.\u001b[39mtopk(\u001b[39m5\u001b[39m, dim\u001b[39m=\u001b[39m\u001b[39m-\u001b[39m\u001b[39m1\u001b[39m)\n",
      "\u001b[0;31mTypeError\u001b[0m: unsupported operand type(s) for @: 'numpy.ndarray' and 'Tensor'"
     ]
    }
   ],
   "source": [
    "text_probs = (100.0 * fp32_image_features @ class_features.T).softmax(dim=-1)\n",
    "top_probs, top_labels = text_probs.cpu().topk(5, dim=-1)"
   ]
  },
  {
   "cell_type": "code",
   "execution_count": null,
   "metadata": {},
   "outputs": [],
   "source": [
    "plt.figure(figsize=(16, 16))\n",
    "\n",
    "for i, image in enumerate(original_images):\n",
    "    plt.subplot(4, 4, 2 * i + 1)\n",
    "    plt.imshow(image)\n",
    "    plt.axis(\"off\")\n",
    "\n",
    "    plt.subplot(4, 4, 2 * i + 2)\n",
    "    y = np.arange(top_probs.shape[-1])\n",
    "    plt.grid()\n",
    "    plt.barh(y, top_probs[i])\n",
    "    plt.gca().invert_yaxis()\n",
    "    plt.gca().set_axisbelow(True)\n",
    "    plt.yticks(y, [class_labels[index] for index in top_labels[i].numpy()])\n",
    "    plt.xlabel(\"probability\")\n",
    "\n",
    "plt.subplots_adjust(wspace=0.5)\n",
    "plt.show()\n"
   ]
  }
 ],
 "metadata": {
  "kernelspec": {
   "display_name": ".venv",
   "language": "python",
   "name": "python3"
  },
  "language_info": {
   "codemirror_mode": {
    "name": "ipython",
    "version": 3
   },
   "file_extension": ".py",
   "mimetype": "text/x-python",
   "name": "python",
   "nbconvert_exporter": "python",
   "pygments_lexer": "ipython3",
   "version": "3.11.2"
  },
  "orig_nbformat": 4
 },
 "nbformat": 4,
 "nbformat_minor": 2
}
